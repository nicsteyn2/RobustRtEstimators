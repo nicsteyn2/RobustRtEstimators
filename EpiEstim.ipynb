{
  "cells": [
    {
      "cell_type": "markdown",
      "metadata": {},
      "source": [
        "---\n",
        "title: \"EpiEstim\"\n",
        "---\n",
        "\n",
        "EpiEstim assumes that $R_t$ is fixed over trailing windows of length $k$. This notebook:\n",
        "\n",
        "- Demonstrates how to fit EpiEstim with a fixed value of $k$\n",
        "- How to find the posterior distribution of $k$\n",
        "- How to marginalise out $k$ to present robust estimates of $R_t$\n",
        "- How to find the predictive distribution for reported cases\n",
        "- How to calculate predictive coverage and scoring rule values\n",
        "\n",
        "All code can be found in the `/src/` folder of the [GitHub repository](https://github.com/nicsteyn2/RobustRtEstimators). We recommend cloning this repository and then opening `EpiEstim.ipynb` in your preferred Jupyter notebook environment.\n",
        "\n",
        "## Setting up\n",
        "\n",
        "First, we need to load the necessary source code and data. We will use data from the 2021 August outbreak of SARS-CoV-2 in Aotearoa New Zealand. The serial interval is assumed to be gamma-distributed with mean 6.5 days and standard deviation 4.2 days [@paragDecipheringEarlywarningSignals2021; @fergusonReportImpactNonpharmaceutical2020]."
      ]
    },
    {
      "cell_type": "code",
      "metadata": {},
      "source": [
        "#| fig-cap: Reported cases of COVID-19 from between 17 August 2021 and 14 February 2022.\n",
        "using Plots, Measures # Load package for plotting\n",
        "\n",
        "# Ensure we are working in the root directory\n",
        "# You may need to edit this for your own machine\n",
        "const rootdir = @__DIR__\n",
        "cd(joinpath(rootdir, \"..\"))\n",
        "\n",
        "# Load source files\n",
        "include(\"src/EpiEstim.jl\")\n",
        "include(\"src/support.jl\")\n",
        "\n",
        "# Load data\n",
        "(Ct, w) = loadData(\"NZCOVID_AUG2021\")\n",
        "dates = Date(\"2021-08-17\") .+ Day.(0:181)\n",
        "\n",
        "# Plot\n",
        "bar(dates, Ct, size=(800,400), label=false, ylabel=\"Reported cases\", xlabel=\"Date\", title=\"NZ COVID-19 cases (local transmission only)\", margins=3mm, color=\"#f25a2a\")"
      ],
      "execution_count": null,
      "outputs": []
    },
    {
      "cell_type": "markdown",
      "metadata": {},
      "source": [
        "## Fitting default EpiEstim\n",
        "\n",
        "We can fit the default EpiEstim model (with $k = 7$) using the ```EpiEstim(k, w, Ct)``` function:"
      ]
    },
    {
      "cell_type": "code",
      "metadata": {},
      "source": [
        "# Fit the model\n",
        "pRt = EpiEstim(7, w, Ct)\n",
        "\n",
        "# Extract mean and 95% credible interval\n",
        "(m, l, u) = (mean.(pRt), quantile.(pRt, 0.025), quantile.(pRt, 0.975))\n",
        "\n",
        "# Plot output\n",
        "plotR = plot(dates[3:end], m[3:end], ribbon=(m[3:end]-l[3:end], u[3:end]-m[3:end]), fillalpha=0.3, label=false, ylabel=\"Reproduction number\", xlabel=\"Date\", size=(600,300), color=\"#13643f\")"
      ],
      "execution_count": null,
      "outputs": []
    },
    {
      "cell_type": "markdown",
      "metadata": {},
      "source": [
        "## Likelihood and posterior distribution for $k$\n",
        "\n",
        "We can calculate the likelihood on a range of $k$ values:"
      ]
    },
    {
      "cell_type": "code",
      "metadata": {},
      "source": [
        "#| fig-cap: Log-likelihood of $k = 1, \\ldots, 30$\n",
        "kvals = collect(1:30) # We will consider k = 1, 2, ..., 30\n",
        "(loglik, _) = EpiEstimLogLik(kvals, w, Ct; windin=3)\n",
        "bar(kvals, loglik[:,end], label=false, ylabel=\"Log-likelihood\", xlabel=\"k\", size=(600,300))"
      ],
      "execution_count": null,
      "outputs": []
    },
    {
      "cell_type": "markdown",
      "metadata": {},
      "source": [
        "By assuming a uniform prior distribution for $k$ and normalising, we can calculate the posterior distribution of $k$ given our observed data:"
      ]
    },
    {
      "cell_type": "code",
      "metadata": {},
      "source": [
        "#| fig-cap: Posterior distribution of $k$.\n",
        "pK = exp.(loglik .- maximum(loglik, dims=1)) # Apply Bayes' theorem\n",
        "pK = pK ./ sum(pK, dims=1) # Normalise\n",
        "bar(kvals, pK[:,end], label=false, ylabel=\"Posterior probability\", xlabel=\"k\", size=(600,300))"
      ],
      "execution_count": null,
      "outputs": []
    },
    {
      "cell_type": "markdown",
      "metadata": {},
      "source": [
        "In this case it is clear that $k = 2$ is the most likely value given the data. We could just run EpiEstim at $k = 2$, but let's be more thorough and use the full marginal posterior estimator.\n",
        "\n",
        "## Marginal posterior distribution for $R_t$\n",
        "\n",
        "To find the marginal posterior distribution for $R_t$, we need to specify a grid of $R_t$ values to average over. We can then use the ```EpiEstimMarginalPosterior()``` function to calculate the marginal posterior distribution of $R_t$."
      ]
    },
    {
      "cell_type": "code",
      "metadata": {},
      "source": [
        "#| fig-cap: Posterior distribution of $R_t$ from the default model (green) and the marginalised model (orange), demonstrating the additional uncertainty arising from $k$.\n",
        "Rgrid = LinRange(0.01, 10, 1000)\n",
        "pR = EpiEstimMarginalPosterior(w, Ct, Rgrid; windin=3)\n",
        "(m, med, l, u) = calculateResults(pR, Rgrid)\n",
        "plot!(plotR, dates[4:end], m[4:end], ribbon=(m[4:end]-l[4:end], u[4:end]-m[4:end]), fillalpha=0.3, ylabel=\"Reproduction number\", xlabel=\"Date\", size=(600,300), label=\"Marginalised estimates\")"
      ],
      "execution_count": null,
      "outputs": []
    },
    {
      "cell_type": "markdown",
      "metadata": {},
      "source": [
        "## Predictive distributions\n",
        "\n",
        "We can also estimate the default and marginalised predictive distributions for reported cases. We also calculate predictive coverages as we go (reported in the next section)."
      ]
    },
    {
      "cell_type": "code",
      "metadata": {},
      "source": [
        "# Default\n",
        "pCdefault = EpiEstimConditionalPredictive(7, w, Ct)\n",
        "(m, med, l, u) = calculateResults(pCdefault)\n",
        "default_coverage = mean((l[4:end] .<= Ct[4:end]) .& (Ct[4:end] .<= u[4:end]))\n",
        "plotCases = plot(4:length(m), m[4:end], ribbon=(m[4:end]-l[4:end], u[4:end]-m[4:end]), label=\"Default\", ylabel=\"Reported cases\", xlabel=\"Days\")\n",
        "\n",
        "# Marginalised\n",
        "Cgrid = 0:(10*maximum(Ct))\n",
        "pC = EpiEstimMarginalPredictive(w, Ct, Cgrid, windin=3)\n",
        "(m, med, l, u) = calculateResults(pC, Cgrid)\n",
        "marginalised_coverage = mean((l[4:end] .<= Ct[4:end]) .& (Ct[4:end] .<= u[4:end]))\n",
        "plot!(plotCases, 4:length(m), m[4:end], ribbon=(m[4:end]-l[4:end], u[4:end]-m[4:end]), label=\"Marginalised\")\n",
        "\n",
        "# Also show the observed data\n",
        "scatter!(plotCases, 1:length(Ct), Ct, label=\"Observed\", color=:black, markersize=1.5)"
      ],
      "execution_count": null,
      "outputs": []
    },
    {
      "cell_type": "markdown",
      "metadata": {},
      "source": [
        "## Predictive coverage and scoring rules\n",
        "\n",
        "Calculating predictive coverage:"
      ]
    },
    {
      "cell_type": "code",
      "metadata": {},
      "source": [
        "println(\"Predictive coverage of default EpiEstim = $(round(100*default_coverage))%\")\n",
        "println(\"Predictive coverage of marginalised EpiEstim = $(round(100*marginalised_coverage))%\")"
      ],
      "execution_count": null,
      "outputs": []
    },
    {
      "cell_type": "markdown",
      "metadata": {},
      "source": [
        "and the **CRPS** (lower is better) for each model:"
      ]
    },
    {
      "cell_type": "code",
      "metadata": {},
      "source": [
        "include(\"src/scoringRules.jl\")\n",
        "default_crps = CRPS(pCdefault, Ct, windin=3)\n",
        "marginalised_crps = CRPS(cumsum(pC, dims=1), Cgrid, Ct, windin=3)\n",
        "\n",
        "println(\"CRPS of default EpiEstim = $(default_crps)\")\n",
        "println(\"CRPS of marginalised EpiEstim = $(marginalised_crps)\")"
      ],
      "execution_count": null,
      "outputs": []
    }
  ],
  "metadata": {
    "kernelspec": {
      "name": "julia-_n-threads_-1.8",
      "language": "julia",
      "display_name": "Julia (n threads) 1.8.0",
      "path": "/Users/nicsteyn/Library/Jupyter/kernels/julia-_n-threads_-1.8"
    }
  },
  "nbformat": 4,
  "nbformat_minor": 4
}