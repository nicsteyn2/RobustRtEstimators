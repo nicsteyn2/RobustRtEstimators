{
  "cells": [
    {
      "cell_type": "markdown",
      "metadata": {},
      "source": [
        "---\n",
        "title: \"EpiFilter\"\n",
        "---\n",
        "\n",
        "EpiFilter assumes that $R_t$ follows a Gaussian random walk with standard deviation at time-step $t$ equal to $\\eta\\sqrt{R_{t-1}}$. This notebook:\n",
        "\n",
        "- Demonstrates how to fit EpiFilter with a fixed value of $\\eta$\n",
        "- How to find the posterior distribution of $\\eta$\n",
        "- How to marginalise out $\\eta$ to present robust estimates of $R_t$\n",
        "- How to find the predictive distribution for reported cases\n",
        "- How to calculate predictive coverage and scoring rule values\n",
        "\n",
        "All code can be found in the `/src/` folder of the [GitHub repository](https://github.com/nicsteyn2/RobustRtEstimators). We recommend cloning this repository and then opening `EpiFilter.ipynb` in your preferred Jupyter notebook environment.\n",
        "\n",
        "## Setting up\n",
        "\n",
        "First, we need to load the necessary source code and data. We will use data from the 2021 August outbreak of SARS-CoV-2 in Aotearoa New Zealand. The serial interval is assumed to be gamma-distributed with mean 6.5 days and standard deviation 4.2 days [@paragDecipheringEarlywarningSignals2021; @fergusonReportImpactNonpharmaceutical2020]."
      ]
    },
    {
      "cell_type": "code",
      "metadata": {},
      "source": [
        "#| fig-cap: Reported cases of COVID-19 from between 17 August 2021 and 14 February 2022.\n",
        "using Plots, Measures # Load package for plotting\n",
        "\n",
        "# Ensure we are working in the root directory\n",
        "# You may need to edit this for your own machine\n",
        "const rootdir = @__DIR__\n",
        "cd(joinpath(rootdir, \"..\"))\n",
        "\n",
        "# Load source files\n",
        "include(\"src/EpiFilter.jl\")\n",
        "include(\"src/support.jl\")\n",
        "\n",
        "# Load data\n",
        "(Ct, w) = loadData(\"NZCOVID_AUG2021\")\n",
        "dates = Date(\"2021-08-17\") .+ Day.(0:181)\n",
        "\n",
        "# Plot\n",
        "bar(dates, Ct, size=(800,400), label=false, ylabel=\"Reported cases\", xlabel=\"Date\", title=\"NZ COVID-19 cases (local transmission only)\", margins=3mm, color=\"#f25a2a\")"
      ],
      "execution_count": null,
      "outputs": []
    },
    {
      "cell_type": "markdown",
      "metadata": {},
      "source": [
        "## Fitting default EpiFilter\n",
        "\n",
        "We can fit the default EpiFilter model (with $\\eta = 0.1$) using the ```EpiFilter(η, w, Ct)``` function:"
      ]
    },
    {
      "cell_type": "code",
      "metadata": {},
      "source": [
        "# Fit the model\n",
        "Rgrid = LinRange(0.01, 10, 1000)\n",
        "(pRt, _, _) = EpiFilterForwards(0.1, w, Ct, Rgrid)\n",
        "\n",
        "# Extract mean and 95% credible interval\n",
        "(m, med, l, u) = calculateResults(pRt, Rgrid)\n",
        "\n",
        "# Plot output\n",
        "plotR = plot(dates[3:end], m[3:end], ribbon=(m[3:end]-l[3:end], u[3:end]-m[3:end]), fillalpha=0.3, label=false, ylabel=\"Reproduction number\", xlabel=\"Date\", size=(600,300), color=\"#13643f\")"
      ],
      "execution_count": null,
      "outputs": []
    },
    {
      "cell_type": "markdown",
      "metadata": {},
      "source": [
        "Side-note: we also provide a function ```EpiFilterBackwards()``` which runs the backward-smoother version of EpiFilter. As our focus is on real-time estimation, we will not use this function in this notebook.\n",
        "\n",
        "## Likelihood and posterior distribution for $\\eta$\n",
        "\n",
        "To find the posterior distribution of $\\eta$, we run the model on a grid of values to estimate the likelihood, and normalise with respect to a prior distribution (in this case we use a uniform prior distribution on $(0, 1)$). This takes approximately 1 minute on a 2021 MacBook Pro."
      ]
    },
    {
      "cell_type": "code",
      "metadata": {},
      "source": [
        "ηgrid = LinRange(0.001, 1, 1000) # The values of η to consider\n",
        "pη0 = ones(length(ηgrid))/length(ηgrid) # A uniform prior on η\n",
        "(pη, pRgivenη, pRupgivenη) = EpiFilterRunAllη(w, Ct, Rgrid, pη0, ηgrid; windin=3, showProgress=false)\n",
        "plot(ηgrid, pη[:,end], label=false, xlabel=\"η\", ylabel=\"Posterior probability\", size=(600,300))"
      ],
      "execution_count": null,
      "outputs": []
    },
    {
      "cell_type": "markdown",
      "metadata": {},
      "source": [
        "## Marginal posterior distribution for $R_t$\n",
        "\n",
        "We already have all the ingredients we need to find the marginal posterior distribution for $R_t$. We can use the ```EpiFilterMarginalPosterior()``` function to do this."
      ]
    },
    {
      "cell_type": "code",
      "metadata": {},
      "source": [
        "pR = EpiFilterMarginalPosterior(pη, pRgivenη)\n",
        "(m, med, l, u) = calculateResults(pR, Rgrid)\n",
        "plotR = plot!(plotR, 3:length(m), m[3:end], ribbon=(m[3:end]-l[3:end], u[3:end]-m[3:end]), fillalpha=0.3, label=\"Marginalised\", ylabel=\"Reproduction number\", xlabel=\"Days since 17 August 2021\", size=(600,300))"
      ],
      "execution_count": null,
      "outputs": []
    },
    {
      "cell_type": "markdown",
      "metadata": {},
      "source": [
        "## Predictive distributions\n",
        "\n",
        "We also have all the ingredients required for the predictive distributions:\n"
      ]
    },
    {
      "cell_type": "code",
      "metadata": {},
      "source": [
        "Cgrid = 0:(10*maximum(Ct))\n",
        "\n",
        "# Default\n",
        "pCdefault = EpiFilterConditionalPredictive(0.1, w, Ct, Rgrid, Cgrid)\n",
        "(m, med, l, u) = calculateResults(pCdefault, Cgrid)\n",
        "default_coverage = mean((l[4:end] .<= Ct[4:end]) .& (Ct[4:end] .<= u[4:end]))\n",
        "plotCases = plot(4:length(m), m[4:end], ribbon=(m[4:end]-l[4:end], u[4:end]-m[4:end]), label=\"Default\", ylabel=\"Reported cases\", xlabel=\"Days\")\n",
        "\n",
        "# Marginalised\n",
        "pC = EpiFilterMarginalPredictive(pη, pRupgivenη, w, Ct, Rgrid, Cgrid)\n",
        "(m, med, l, u) = calculateResults(pC, Cgrid)\n",
        "marginal_coverage = mean((l[4:end] .<= Ct[4:end]) .& (Ct[4:end] .<= u[4:end]))\n",
        "plot!(plotCases, 4:length(m), m[4:end], ribbon=(m[4:end]-l[4:end], u[4:end]-m[4:end]), label=\"Marginalised\")\n",
        "\n",
        "# Also show the observed data\n",
        "scatter!(plotCases, 1:length(Ct), Ct, label=\"Observed\", color=:black, markersize=1.5)"
      ],
      "execution_count": null,
      "outputs": []
    },
    {
      "cell_type": "markdown",
      "metadata": {},
      "source": [
        "## Predictive coverage and scoring rules\n",
        "\n",
        "Calculating predictive coverage:\n"
      ]
    },
    {
      "cell_type": "code",
      "metadata": {},
      "source": [
        "println(\"Predictive coverage of default EpiEstim = $(round(100*default_coverage))%\")\n",
        "println(\"Predictive coverage of marginalised EpiEstim = $(round(100*marginal_coverage))%\")"
      ],
      "execution_count": null,
      "outputs": []
    },
    {
      "cell_type": "markdown",
      "metadata": {},
      "source": [
        "and the **CRPS** (lower is better) for each model:"
      ]
    },
    {
      "cell_type": "code",
      "metadata": {},
      "source": [
        "include(\"src/scoringRules.jl\")\n",
        "default_crps = CRPS(cumsum(pCdefault, dims=1), Cgrid, Ct, windin=3)\n",
        "marginalised_crps = CRPS(cumsum(pC, dims=1), Cgrid, Ct, windin=3)\n",
        "\n",
        "println(\"CRPS of default EpiEstim = $(default_crps)\")\n",
        "println(\"CRPS of marginalised EpiEstim = $(marginalised_crps)\")"
      ],
      "execution_count": null,
      "outputs": []
    }
  ],
  "metadata": {
    "kernelspec": {
      "name": "julia-_n-threads_-1.8",
      "language": "julia",
      "display_name": "Julia (n threads) 1.8.0",
      "path": "/Users/nicsteyn/Library/Jupyter/kernels/julia-_n-threads_-1.8"
    }
  },
  "nbformat": 4,
  "nbformat_minor": 4
}